{
 "cells": [
  {
   "cell_type": "code",
   "execution_count": 1,
   "id": "a91032a2-eade-47b4-8f81-099c7d1a8243",
   "metadata": {},
   "outputs": [],
   "source": [
    "from openai import OpenAI\n",
    "import os\n",
    "from dotenv import load_dotenv\n",
    "import ollama\n",
    "import anthropic\n",
    "import langgraph\n",
    "import langchain_openai"
   ]
  },
  {
   "cell_type": "code",
   "execution_count": 2,
   "id": "1a40913b-cfb8-4c23-8557-16039037b5db",
   "metadata": {},
   "outputs": [],
   "source": [
    "llama_client = ollama.Client(host='http://ollama:11434')"
   ]
  },
  {
   "cell_type": "code",
   "execution_count": 4,
   "id": "199146eb-a812-49f8-80d9-7a1a4d4eade0",
   "metadata": {},
   "outputs": [
    {
     "name": "stdout",
     "output_type": "stream",
     "text": [
      "I am LLaMA, an AI assistant developed by Meta AI that can understand and respond to human input in a conversational manner. I'm not a human, but a computer program designed to simulate conversation and answer questions to the best of my ability based on my training data.\n",
      "\n",
      "I'm a large language model, which means I've been trained on a massive dataset of text from various sources, including books, articles, and online conversations. This training enables me to recognize patterns and relationships in language, allowing me to generate human-like responses to your questions or statements.\n",
      "\n",
      "My capabilities include:\n",
      "\n",
      "1. Answering questions: I can provide information on a wide range of topics, from science and history to entertainment and culture.\n",
      "2. Generating text: I can create text based on a prompt or topic, which can be useful for writing tasks or generating ideas.\n",
      "3. Conversing: I can engage in natural-sounding conversations, using context and understanding to respond to your statements and questions.\n",
      "\n",
      "I'm constantly learning and improving my responses based on the interactions I have with users like you. So, feel free to ask me anything, and I'll do my best to help!\n"
     ]
    }
   ],
   "source": [
    "response = llama_client.chat(model='llama3', messages=[\n",
    "    {\n",
    "        'role': 'user',\n",
    "        'content': 'who are you?'\n",
    "    }\n",
    "])\n",
    "\n",
    "print(response['message']['content'])"
   ]
  },
  {
   "cell_type": "code",
   "execution_count": 2,
   "id": "0023982d-90da-44f9-9368-6cbb9912b1ba",
   "metadata": {},
   "outputs": [],
   "source": [
    "load_dotenv()\n",
    "openai_client = OpenAI(\n",
    "    api_key=os.environ.get(\"OPENAI_API_KEY\"),\n",
    ")"
   ]
  },
  {
   "cell_type": "code",
   "execution_count": 3,
   "id": "7115c76a-dccf-411d-8cfe-bb33897be5e3",
   "metadata": {},
   "outputs": [
    {
     "name": "stdout",
     "output_type": "stream",
     "text": [
      "Hello! I'm an AI language model created by OpenAI, designed to assist you with information, answer questions, and help with various tasks. How can I assist you today?"
     ]
    }
   ],
   "source": [
    "stream = openai_client.chat.completions.create(\n",
    "    model=\"gpt-4o\",\n",
    "    messages=[{\"role\": \"user\", \"content\": \"who are you\"}],\n",
    "    stream=True,\n",
    ")\n",
    "for chunk in stream:\n",
    "    print(chunk.choices[0].delta.content or \"\", end=\"\")"
   ]
  },
  {
   "cell_type": "code",
   "execution_count": 4,
   "id": "09230632-3786-47d0-822f-a4235fd5ffb3",
   "metadata": {},
   "outputs": [],
   "source": [
    "load_dotenv()\n",
    "anthropic_client = anthropic.Anthropic(\n",
    "    api_key=os.environ.get(\"CLAUDE_API_KEY\"),\n",
    ")"
   ]
  },
  {
   "cell_type": "code",
   "execution_count": 6,
   "id": "571a39df-ce49-4c74-bb57-c5e1adee9db7",
   "metadata": {},
   "outputs": [
    {
     "name": "stdout",
     "output_type": "stream",
     "text": [
      "[TextBlock(text=\"I am an AI assistant created by Anthropic. I'm here to help with all kinds of tasks and questions, but I don't have a physical form or identity beyond being an AI. How can I assist you today?\", type='text')]\n"
     ]
    }
   ],
   "source": [
    "message = anthropic_client.messages.create(\n",
    "    model=\"claude-3-5-sonnet-20240620\",\n",
    "    max_tokens=1024,\n",
    "    messages=[\n",
    "        {\"role\": \"user\", \"content\": \"Who are you?\"}\n",
    "    ]\n",
    ")\n",
    "print(message.content)"
   ]
  }
 ],
 "metadata": {
  "kernelspec": {
   "display_name": "Python 3 (ipykernel)",
   "language": "python",
   "name": "python3"
  },
  "language_info": {
   "codemirror_mode": {
    "name": "ipython",
    "version": 3
   },
   "file_extension": ".py",
   "mimetype": "text/x-python",
   "name": "python",
   "nbconvert_exporter": "python",
   "pygments_lexer": "ipython3",
   "version": "3.11.9"
  }
 },
 "nbformat": 4,
 "nbformat_minor": 5
}
